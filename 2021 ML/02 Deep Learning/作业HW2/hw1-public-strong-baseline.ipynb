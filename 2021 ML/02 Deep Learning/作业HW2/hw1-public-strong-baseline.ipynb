{
 "cells": [
  {
   "cell_type": "markdown",
   "id": "fe424fac",
   "metadata": {
    "id": "view-in-github",
    "papermill": {
     "duration": 0.025642,
     "end_time": "2021-08-15T10:37:43.065422",
     "exception": false,
     "start_time": "2021-08-15T10:37:43.039780",
     "status": "completed"
    },
    "tags": []
   },
   "source": [
    "<a href=\"https://colab.research.google.com/github/YClemontree/ML2021-HW/blob/main/HW1.ipynb\" target=\"_parent\"><img src=\"https://colab.research.google.com/assets/colab-badge.svg\" alt=\"Open In Colab\"/></a>"
   ]
  },
  {
   "cell_type": "markdown",
   "id": "fc2a23c0",
   "metadata": {
    "id": "ZeZnPAiwDRWG",
    "papermill": {
     "duration": 0.025001,
     "end_time": "2021-08-15T10:37:43.115129",
     "exception": false,
     "start_time": "2021-08-15T10:37:43.090128",
     "status": "completed"
    },
    "tags": []
   },
   "source": [
    "本notebook基于Heng-Jui Chang @ NTUEE提供的原始代码，感谢助教的辛勤工作。"
   ]
  },
  {
   "cell_type": "markdown",
   "id": "e0f20fc2",
   "metadata": {
    "id": "Jx3x1nDkG-Uy",
    "papermill": {
     "duration": 0.023537,
     "end_time": "2021-08-15T10:37:43.163181",
     "exception": false,
     "start_time": "2021-08-15T10:37:43.139644",
     "status": "completed"
    },
    "tags": []
   },
   "source": [
    "# **Download Data**"
   ]
  },
  {
   "cell_type": "code",
   "execution_count": 1,
   "id": "5422a487",
   "metadata": {
    "execution": {
     "iopub.execute_input": "2021-08-15T10:37:43.217794Z",
     "iopub.status.busy": "2021-08-15T10:37:43.215983Z",
     "iopub.status.idle": "2021-08-15T10:37:43.233068Z",
     "shell.execute_reply": "2021-08-15T10:37:43.233595Z",
     "shell.execute_reply.started": "2021-08-15T10:32:09.268105Z"
    },
    "papermill": {
     "duration": 0.046195,
     "end_time": "2021-08-15T10:37:43.233887",
     "exception": false,
     "start_time": "2021-08-15T10:37:43.187692",
     "status": "completed"
    },
    "tags": []
   },
   "outputs": [
    {
     "name": "stdout",
     "output_type": "stream",
     "text": [
      "/kaggle/input/ml2021spring-hw1/covid.test.csv\n",
      "/kaggle/input/ml2021spring-hw1/sampleSubmission.csv\n",
      "/kaggle/input/ml2021spring-hw1/covid.train.csv\n"
     ]
    }
   ],
   "source": [
    "tr_path = '/kaggle/input/ml2021spring-hw1/covid.train.csv'  # path to training data\n",
    "tt_path = '/kaggle/input/ml2021spring-hw1/covid.test.csv'   # path to testing data\n",
    "\n",
    "# This Python 3 environment comes with many helpful analytics libraries installed\n",
    "# It is defined by the kaggle/python Docker image: https://github.com/kaggle/docker-python\n",
    "# For example, here's several helpful packages to load\n",
    "\n",
    "import numpy as np # linear algebra\n",
    "import pandas as pd # data processing, CSV file I/O (e.g. pd.read_csv)\n",
    "\n",
    "# Input data files are available in the read-only \"../input/\" directory\n",
    "# For example, running this (by clicking run or pressing Shift+Enter) will list all files under the input directory\n",
    "\n",
    "import os\n",
    "for dirname, _, filenames in os.walk('/kaggle/input'):\n",
    "    for filename in filenames:\n",
    "        print(os.path.join(dirname, filename))\n",
    "\n",
    "# You can write up to 20GB to the current directory (/kaggle/working/) that gets preserved as output when you create a version using \"Save & Run All\" \n",
    "# You can also write temporary files to /kaggle/temp/, but they won't be saved outside of the current session"
   ]
  },
  {
   "cell_type": "markdown",
   "id": "be32e69d",
   "metadata": {
    "id": "wS_4-77xHk44",
    "papermill": {
     "duration": 0.023866,
     "end_time": "2021-08-15T10:37:43.282716",
     "exception": false,
     "start_time": "2021-08-15T10:37:43.258850",
     "status": "completed"
    },
    "tags": []
   },
   "source": [
    "# **Import Some Packages**"
   ]
  },
  {
   "cell_type": "code",
   "execution_count": 2,
   "id": "17c615e8",
   "metadata": {
    "execution": {
     "iopub.execute_input": "2021-08-15T10:37:43.339054Z",
     "iopub.status.busy": "2021-08-15T10:37:43.338021Z",
     "iopub.status.idle": "2021-08-15T10:37:44.518333Z",
     "shell.execute_reply": "2021-08-15T10:37:44.517659Z",
     "shell.execute_reply.started": "2021-08-15T10:32:11.978484Z"
    },
    "id": "k-onQd4JNA5H",
    "papermill": {
     "duration": 1.211027,
     "end_time": "2021-08-15T10:37:44.518481",
     "exception": false,
     "start_time": "2021-08-15T10:37:43.307454",
     "status": "completed"
    },
    "tags": []
   },
   "outputs": [],
   "source": [
    "# PyTorch\n",
    "import torch\n",
    "import torch.nn as nn\n",
    "from torch.utils.data import Dataset, DataLoader\n",
    "\n",
    "# For data preprocess\n",
    "import numpy as np\n",
    "import csv\n",
    "import os\n",
    "\n",
    "# For plotting\n",
    "import matplotlib.pyplot as plt\n",
    "from matplotlib.pyplot import figure\n",
    "\n",
    "myseed = 2020815  # set a random seed for reproducibility\n",
    "torch.backends.cudnn.deterministic = True\n",
    "torch.backends.cudnn.benchmark = False\n",
    "np.random.seed(myseed)\n",
    "torch.manual_seed(myseed)\n",
    "if torch.cuda.is_available():\n",
    "    torch.cuda.manual_seed_all(myseed)"
   ]
  },
  {
   "cell_type": "markdown",
   "id": "13ba2b1d",
   "metadata": {
    "id": "BtE3b6JEH7rw",
    "papermill": {
     "duration": 0.023845,
     "end_time": "2021-08-15T10:37:44.566677",
     "exception": false,
     "start_time": "2021-08-15T10:37:44.542832",
     "status": "completed"
    },
    "tags": []
   },
   "source": [
    "# **Some Utilities**"
   ]
  },
  {
   "cell_type": "code",
   "execution_count": 3,
   "id": "c4565614",
   "metadata": {
    "execution": {
     "iopub.execute_input": "2021-08-15T10:37:44.631128Z",
     "iopub.status.busy": "2021-08-15T10:37:44.630466Z",
     "iopub.status.idle": "2021-08-15T10:37:44.632467Z",
     "shell.execute_reply": "2021-08-15T10:37:44.632956Z",
     "shell.execute_reply.started": "2021-08-15T10:32:14.027317Z"
    },
    "id": "FWMT3uf1NGQp",
    "papermill": {
     "duration": 0.04119,
     "end_time": "2021-08-15T10:37:44.633122",
     "exception": false,
     "start_time": "2021-08-15T10:37:44.591932",
     "status": "completed"
    },
    "tags": []
   },
   "outputs": [],
   "source": [
    "def get_device():\n",
    "    ''' Get device (if GPU is available, use GPU) '''\n",
    "    return 'cuda' if torch.cuda.is_available() else 'cpu'\n",
    "\n",
    "def plot_learning_curve(loss_record, title=''):\n",
    "    ''' Plot learning curve of your DNN (train & dev loss) '''\n",
    "    total_steps = len(loss_record['train'])\n",
    "    x_1 = range(total_steps)\n",
    "    x_2 = x_1[::len(loss_record['train']) // len(loss_record['dev'])]\n",
    "    figure(figsize=(6, 4))\n",
    "    plt.plot(x_1, loss_record['train'], c='tab:red', label='train')\n",
    "    plt.plot(x_2, loss_record['dev'], c='tab:cyan', label='dev')\n",
    "    plt.ylim(0.0, 5.)\n",
    "    plt.xlabel('Training steps')\n",
    "    plt.ylabel('MSE loss')\n",
    "    plt.title('Learning curve of {}'.format(title))\n",
    "    plt.legend()\n",
    "    plt.show()\n",
    "\n",
    "\n",
    "def plot_pred(dv_set, model, device, lim=35., preds=None, targets=None):\n",
    "    ''' Plot prediction of your DNN '''\n",
    "    if preds is None or targets is None:\n",
    "        model.eval()\n",
    "        preds, targets = [], []\n",
    "        for x, y in dv_set:\n",
    "            x, y = x.to(device), y.to(device)\n",
    "            with torch.no_grad():\n",
    "                pred = model(x)\n",
    "                preds.append(pred.detach().cpu())\n",
    "                targets.append(y.detach().cpu())\n",
    "        preds = torch.cat(preds, dim=0).numpy()\n",
    "        targets = torch.cat(targets, dim=0).numpy()\n",
    "\n",
    "    figure(figsize=(5, 5))\n",
    "    plt.scatter(targets, preds, c='r', alpha=0.5)\n",
    "    plt.plot([-0.2, lim], [-0.2, lim], c='b')\n",
    "    plt.xlim(-0.2, lim)\n",
    "    plt.ylim(-0.2, lim)\n",
    "    plt.xlabel('ground truth value')\n",
    "    plt.ylabel('predicted value')\n",
    "    plt.title('Ground Truth v.s. Prediction')\n",
    "    plt.show()"
   ]
  },
  {
   "cell_type": "markdown",
   "id": "f2d925df",
   "metadata": {
    "id": "39U_XFX6KOoj",
    "papermill": {
     "duration": 0.023849,
     "end_time": "2021-08-15T10:37:44.681259",
     "exception": false,
     "start_time": "2021-08-15T10:37:44.657410",
     "status": "completed"
    },
    "tags": []
   },
   "source": [
    "# **Preprocess**\n",
    "\n",
    "We have three kinds of datasets:\n",
    "* `train`: for training\n",
    "* `dev`: for validation\n",
    "* `test`: for testing (w/o target value)"
   ]
  },
  {
   "cell_type": "markdown",
   "id": "10b138ec",
   "metadata": {
    "id": "TQ-MdwpLL7Dt",
    "papermill": {
     "duration": 0.023735,
     "end_time": "2021-08-15T10:37:44.728989",
     "exception": false,
     "start_time": "2021-08-15T10:37:44.705254",
     "status": "completed"
    },
    "tags": []
   },
   "source": [
    "## **Dataset**\n",
    "\n",
    "The `COVID19Dataset` below does:\n",
    "* read `.csv` files\n",
    "* extract features\n",
    "* split `covid.train.csv` into train/dev sets\n",
    "* normalize features\n",
    "\n",
    "Finishing `TODO` below might make you pass medium baseline."
   ]
  },
  {
   "cell_type": "markdown",
   "id": "1d519101",
   "metadata": {
    "papermill": {
     "duration": 0.023827,
     "end_time": "2021-08-15T10:37:44.776961",
     "exception": false,
     "start_time": "2021-08-15T10:37:44.753134",
     "status": "completed"
    },
    "tags": []
   },
   "source": [
    "### **特征选择**"
   ]
  },
  {
   "cell_type": "code",
   "execution_count": 4,
   "id": "822e8de6",
   "metadata": {
    "execution": {
     "iopub.execute_input": "2021-08-15T10:37:44.828307Z",
     "iopub.status.busy": "2021-08-15T10:37:44.827598Z",
     "iopub.status.idle": "2021-08-15T10:37:46.067907Z",
     "shell.execute_reply": "2021-08-15T10:37:46.069440Z",
     "shell.execute_reply.started": "2021-08-15T10:32:28.124329Z"
    },
    "papermill": {
     "duration": 1.268847,
     "end_time": "2021-08-15T10:37:46.069896",
     "exception": false,
     "start_time": "2021-08-15T10:37:44.801049",
     "status": "completed"
    },
    "tags": []
   },
   "outputs": [
    {
     "name": "stdout",
     "output_type": "stream",
     "text": [
      "                 Specs          Score\n",
      "75   tested_positive.1  148069.658278\n",
      "57     tested_positive   69603.872591\n",
      "42        hh_cmnty_cli    9235.492094\n",
      "60      hh_cmnty_cli.1    9209.019558\n",
      "78      hh_cmnty_cli.2    9097.375172\n",
      "43      nohh_cmnty_cli    8395.421300\n",
      "61    nohh_cmnty_cli.1    8343.255927\n",
      "79    nohh_cmnty_cli.2    8208.176435\n",
      "40                 cli    6388.906849\n",
      "58               cli.1    6374.548000\n",
      "76               cli.2    6250.008702\n",
      "41                 ili    5998.922880\n",
      "59               ili.1    5937.588576\n",
      "77               ili.2    5796.947672\n",
      "92  worried_finances.2     833.613191\n"
     ]
    }
   ],
   "source": [
    "import pandas as pd\n",
    "import numpy as np\n",
    "\n",
    "data = pd.read_csv('/kaggle/input/ml2021spring-hw1/covid.train.csv')\n",
    "x = data[data.columns[1:94]]\n",
    "y = data[data.columns[94]]\n",
    "\n",
    "from sklearn.feature_selection import SelectKBest\n",
    "from sklearn.feature_selection import f_regression\n",
    "\n",
    "from sklearn import preprocessing\n",
    "x = (x - x.min()) / (x.max() - x.min())\n",
    "\n",
    "bestfeatures = SelectKBest(score_func=f_regression, k=5)\n",
    "fit = bestfeatures.fit(x,y)\n",
    "dfscores = pd.DataFrame(fit.scores_)\n",
    "dfcolumns = pd.DataFrame(x.columns)\n",
    "#concat two dataframes for better visualization \n",
    "featureScores = pd.concat([dfcolumns,dfscores],axis=1)\n",
    "featureScores.columns = ['Specs','Score']  #naming the dataframe columns\n",
    "print(featureScores.nlargest(15,'Score'))  #print 15 best features"
   ]
  },
  {
   "cell_type": "code",
   "execution_count": 5,
   "id": "4222cd11",
   "metadata": {
    "execution": {
     "iopub.execute_input": "2021-08-15T10:37:46.168868Z",
     "iopub.status.busy": "2021-08-15T10:37:46.167859Z",
     "iopub.status.idle": "2021-08-15T10:37:46.177386Z",
     "shell.execute_reply": "2021-08-15T10:37:46.177958Z",
     "shell.execute_reply.started": "2021-08-15T10:32:39.732472Z"
    },
    "id": "0zlpIp9ANJRU",
    "papermill": {
     "duration": 0.064279,
     "end_time": "2021-08-15T10:37:46.178126",
     "exception": false,
     "start_time": "2021-08-15T10:37:46.113847",
     "status": "completed"
    },
    "tags": []
   },
   "outputs": [],
   "source": [
    "class COVID19Dataset(Dataset):\n",
    "    ''' Dataset for loading and preprocessing the COVID19 dataset '''\n",
    "    def __init__(self,\n",
    "                 path,\n",
    "                 mode='train',\n",
    "                 target_only=True):\n",
    "        self.mode = mode\n",
    "\n",
    "        # Read data into numpy arrays\n",
    "        with open(path, 'r') as fp:\n",
    "            data = list(csv.reader(fp))\n",
    "            data = np.array(data[1:])[:, 1:].astype(float)\n",
    "        \n",
    "        if not target_only:\n",
    "            feats = list(range(93))\n",
    "            # feats = list(range(1, 40)) + [57, 75]\n",
    "        else:\n",
    "            # TODO: Using 40 states & 2 tested_positive features (indices = 57 & 75)\n",
    "            # feats = list(range(1, 41)) + [57, 75]\n",
    "            feats = [75, 57, 42, 60, 78, 43, 61, 79, 40, 58, 76, 41, 59, 77] #上面挑选的最优特征\n",
    "        if mode == 'test':\n",
    "            # Testing data\n",
    "            # data: 893 x 93 (40 states + day 1 (18) + day 2 (18) + day 3 (17))\n",
    "            data = data[:, feats]\n",
    "            self.data = torch.FloatTensor(data)\n",
    "        else:\n",
    "            # Training data (train/dev sets)\n",
    "            # data: 2700 x 94 (40 states + day 1 (18) + day 2 (18) + day 3 (18))\n",
    "            target = data[:, -1]\n",
    "            data = data[:, feats]\n",
    "            \n",
    "            # Splitting training data into train & dev sets\n",
    "            # 在确定参数后，使用所有数据进行训练，即训练集=验证集\n",
    "            if mode == 'train':\n",
    "                #indices = [i for i in range(len(data)) if i % 10 != 0]\n",
    "                indices = [i for i in range(len(data))]\n",
    "            elif mode == 'dev':\n",
    "                #indices = [i for i in range(len(data)) if i % 10 == 0]\n",
    "                indices = [i for i in range(len(data))]\n",
    "            \n",
    "            # Convert data into PyTorch tensors\n",
    "            self.data = torch.FloatTensor(data[indices])\n",
    "            self.target = torch.FloatTensor(target[indices])\n",
    "\n",
    "        # Normalize features (you may remove this part to see what will happen)\n",
    "        self.data[:, 40:] = \\\n",
    "            (self.data[:, 40:] - self.data[:, 40:].mean(dim=0, keepdim=True)) \\\n",
    "            / self.data[:, 40:].std(dim=0, keepdim=True)\n",
    "\n",
    "        self.dim = self.data.shape[1]\n",
    "\n",
    "        print('Finished reading the {} set of COVID19 Dataset ({} samples found, each dim = {})'\n",
    "              .format(mode, len(self.data), self.dim))\n",
    "\n",
    "    def __getitem__(self, index):\n",
    "        # Returns one sample at a time\n",
    "        if self.mode in ['train', 'dev']:\n",
    "            # For training\n",
    "            return self.data[index], self.target[index]\n",
    "        else:\n",
    "            # For testing (no target)\n",
    "            return self.data[index]\n",
    "\n",
    "    def __len__(self):\n",
    "        # Returns the size of the dataset\n",
    "        return len(self.data)"
   ]
  },
  {
   "cell_type": "markdown",
   "id": "6dc3239d",
   "metadata": {
    "id": "AlhTlkE7MDo3",
    "papermill": {
     "duration": 0.024394,
     "end_time": "2021-08-15T10:37:46.227321",
     "exception": false,
     "start_time": "2021-08-15T10:37:46.202927",
     "status": "completed"
    },
    "tags": []
   },
   "source": [
    "## **DataLoader**\n",
    "\n",
    "A `DataLoader` loads data from a given `Dataset` into batches.\n"
   ]
  },
  {
   "cell_type": "code",
   "execution_count": 6,
   "id": "dfea6cde",
   "metadata": {
    "execution": {
     "iopub.execute_input": "2021-08-15T10:37:46.279629Z",
     "iopub.status.busy": "2021-08-15T10:37:46.278722Z",
     "iopub.status.idle": "2021-08-15T10:37:46.285405Z",
     "shell.execute_reply": "2021-08-15T10:37:46.284735Z",
     "shell.execute_reply.started": "2021-08-15T10:32:44.299517Z"
    },
    "id": "hlhLk5t6MBX3",
    "papermill": {
     "duration": 0.033608,
     "end_time": "2021-08-15T10:37:46.285540",
     "exception": false,
     "start_time": "2021-08-15T10:37:46.251932",
     "status": "completed"
    },
    "tags": []
   },
   "outputs": [],
   "source": [
    "def prep_dataloader(path, mode, batch_size, n_jobs=0, target_only=False):\n",
    "    ''' Generates a dataset, then is put into a dataloader. '''\n",
    "    dataset = COVID19Dataset(path, mode=mode, target_only=target_only)  # Construct dataset\n",
    "    dataloader = DataLoader(\n",
    "        dataset, batch_size,\n",
    "        shuffle=(mode == 'train'), drop_last=False,\n",
    "        num_workers=n_jobs, pin_memory=True)                            # Construct dataloader\n",
    "    return dataloader"
   ]
  },
  {
   "cell_type": "markdown",
   "id": "f1e1a37b",
   "metadata": {
    "id": "SGuycwR0MeQB",
    "papermill": {
     "duration": 0.024484,
     "end_time": "2021-08-15T10:37:46.334495",
     "exception": false,
     "start_time": "2021-08-15T10:37:46.310011",
     "status": "completed"
    },
    "tags": []
   },
   "source": [
    "# **Deep Neural Network**\n",
    "\n",
    "`NeuralNet` is an `nn.Module` designed for regression.\n",
    "The DNN consists of 2 fully-connected layers with ReLU activation.\n",
    "This module also included a function `cal_loss` for calculating loss.\n"
   ]
  },
  {
   "cell_type": "code",
   "execution_count": 7,
   "id": "f367e30c",
   "metadata": {
    "execution": {
     "iopub.execute_input": "2021-08-15T10:37:46.387454Z",
     "iopub.status.busy": "2021-08-15T10:37:46.386489Z",
     "iopub.status.idle": "2021-08-15T10:37:46.395532Z",
     "shell.execute_reply": "2021-08-15T10:37:46.394989Z",
     "shell.execute_reply.started": "2021-08-15T10:32:48.721001Z"
    },
    "id": "49-uXYovOAI0",
    "papermill": {
     "duration": 0.036705,
     "end_time": "2021-08-15T10:37:46.395666",
     "exception": false,
     "start_time": "2021-08-15T10:37:46.358961",
     "status": "completed"
    },
    "tags": []
   },
   "outputs": [],
   "source": [
    "class NeuralNet(nn.Module):\n",
    "    ''' A simple fully-connected deep neural network '''\n",
    "    def __init__(self, input_dim):\n",
    "        super(NeuralNet, self).__init__()\n",
    "\n",
    "        # Define your neural network here\n",
    "        # TODO: How to modify this model to achieve better performance?\n",
    "        self.net = nn.Sequential(\n",
    "            nn.Linear(input_dim, 32),\n",
    "            nn.BatchNorm1d(32),#使用BN，加速模型训练\n",
    "            nn.Dropout(p=0.2),#使用Dropout，减小过拟合，注意不能在BN之前\n",
    "            nn.LeakyReLU(),#更换激活函数\n",
    "            nn.Linear(32, 1)\n",
    "        )\n",
    "\n",
    "        # Mean squared error loss\n",
    "        self.criterion = nn.MSELoss(reduction='mean')\n",
    "        #self.criterion = nn.SmoothL1Loss(size_average=True)\n",
    "\n",
    "    def forward(self, x):\n",
    "        ''' Given input of size (batch_size x input_dim), compute output of the network '''\n",
    "        return self.net(x).squeeze(1)\n",
    "\n",
    "    def cal_loss(self, pred, target):\n",
    "        ''' Calculate loss '''\n",
    "        regularization_loss = 0\n",
    "        for param in model.parameters():\n",
    "        # TODO: you may implement L1/L2 regularization here\n",
    "        # 使用L2正则项\n",
    "            # regularization_loss += torch.sum(abs(param))\n",
    "            regularization_loss += torch.sum(param ** 2)\n",
    "        return self.criterion(pred, target) + 0.00075 * regularization_loss"
   ]
  },
  {
   "cell_type": "markdown",
   "id": "85b8bbdf",
   "metadata": {
    "id": "DvFWVjZ5Nvga",
    "papermill": {
     "duration": 0.024179,
     "end_time": "2021-08-15T10:37:46.444639",
     "exception": false,
     "start_time": "2021-08-15T10:37:46.420460",
     "status": "completed"
    },
    "tags": []
   },
   "source": [
    "# **Train/Dev/Test**"
   ]
  },
  {
   "cell_type": "markdown",
   "id": "84a07785",
   "metadata": {
    "id": "MAM8QecJOyqn",
    "papermill": {
     "duration": 0.024002,
     "end_time": "2021-08-15T10:37:46.492992",
     "exception": false,
     "start_time": "2021-08-15T10:37:46.468990",
     "status": "completed"
    },
    "tags": []
   },
   "source": [
    "## **Training**"
   ]
  },
  {
   "cell_type": "code",
   "execution_count": 8,
   "id": "256676de",
   "metadata": {
    "execution": {
     "iopub.execute_input": "2021-08-15T10:37:46.554627Z",
     "iopub.status.busy": "2021-08-15T10:37:46.553932Z",
     "iopub.status.idle": "2021-08-15T10:37:46.555799Z",
     "shell.execute_reply": "2021-08-15T10:37:46.556375Z",
     "shell.execute_reply.started": "2021-08-15T10:32:54.729674Z"
    },
    "id": "lOqcmYzMO7jB",
    "papermill": {
     "duration": 0.039117,
     "end_time": "2021-08-15T10:37:46.556541",
     "exception": false,
     "start_time": "2021-08-15T10:37:46.517424",
     "status": "completed"
    },
    "tags": []
   },
   "outputs": [],
   "source": [
    "def train(tr_set, dv_set, model, config, device):\n",
    "    ''' DNN training '''\n",
    "\n",
    "    n_epochs = config['n_epochs']  # Maximum number of epochs\n",
    "\n",
    "    # Setup optimizer\n",
    "    optimizer = getattr(torch.optim, config['optimizer'])(\n",
    "        model.parameters(), **config['optim_hparas'])\n",
    "\n",
    "    min_mse = 1000.\n",
    "    loss_record = {'train': [], 'dev': []}      # for recording training loss\n",
    "    early_stop_cnt = 0\n",
    "    epoch = 0\n",
    "    while epoch < n_epochs:\n",
    "        model.train()                           # set model to training mode\n",
    "        for x, y in tr_set:                     # iterate through the dataloader\n",
    "            optimizer.zero_grad()               # set gradient to zero\n",
    "            x, y = x.to(device), y.to(device)   # move data to device (cpu/cuda)\n",
    "            pred = model(x)                     # forward pass (compute output)\n",
    "            mse_loss = model.cal_loss(pred, y)  # compute loss\n",
    "            mse_loss.backward()                 # compute gradient (backpropagation)\n",
    "            optimizer.step()                    # update model with optimizer\n",
    "            loss_record['train'].append(mse_loss.detach().cpu().item())\n",
    "\n",
    "        # After each epoch, test your model on the validation (development) set.\n",
    "        dev_mse = dev(dv_set, model, device)\n",
    "        if dev_mse < min_mse:\n",
    "            # Save model if your model improved\n",
    "            min_mse = dev_mse\n",
    "            print('Saving model (epoch = {:4d}, loss = {:.4f})'\n",
    "                .format(epoch + 1, min_mse))\n",
    "            torch.save(model.state_dict(), config['save_path'])  # Save model to specified path\n",
    "            early_stop_cnt = 0\n",
    "        else:\n",
    "            early_stop_cnt += 1\n",
    "\n",
    "        epoch += 1\n",
    "        loss_record['dev'].append(dev_mse)\n",
    "        if early_stop_cnt > config['early_stop']:\n",
    "            # Stop training if your model stops improving for \"config['early_stop']\" epochs.\n",
    "            break\n",
    "\n",
    "    print('Finished training after {} epochs'.format(epoch))\n",
    "    return min_mse, loss_record"
   ]
  },
  {
   "cell_type": "markdown",
   "id": "43fede13",
   "metadata": {
    "id": "0hSd4Bn3O2PL",
    "papermill": {
     "duration": 0.025229,
     "end_time": "2021-08-15T10:37:46.606745",
     "exception": false,
     "start_time": "2021-08-15T10:37:46.581516",
     "status": "completed"
    },
    "tags": []
   },
   "source": [
    "## **Validation**"
   ]
  },
  {
   "cell_type": "code",
   "execution_count": 9,
   "id": "9b00e206",
   "metadata": {
    "execution": {
     "iopub.execute_input": "2021-08-15T10:37:46.659515Z",
     "iopub.status.busy": "2021-08-15T10:37:46.658891Z",
     "iopub.status.idle": "2021-08-15T10:37:46.664301Z",
     "shell.execute_reply": "2021-08-15T10:37:46.664786Z",
     "shell.execute_reply.started": "2021-08-15T10:33:17.613453Z"
    },
    "id": "yrxrD3YsN3U2",
    "papermill": {
     "duration": 0.033659,
     "end_time": "2021-08-15T10:37:46.664946",
     "exception": false,
     "start_time": "2021-08-15T10:37:46.631287",
     "status": "completed"
    },
    "tags": []
   },
   "outputs": [],
   "source": [
    "def dev(dv_set, model, device):\n",
    "    model.eval()                                # set model to evalutation mode\n",
    "    total_loss = 0\n",
    "    for x, y in dv_set:                         # iterate through the dataloader\n",
    "        x, y = x.to(device), y.to(device)       # move data to device (cpu/cuda)\n",
    "        with torch.no_grad():                   # disable gradient calculation\n",
    "            pred = model(x)                     # forward pass (compute output)\n",
    "            mse_loss = model.cal_loss(pred, y)  # compute loss\n",
    "        total_loss += mse_loss.detach().cpu().item() * len(x)  # accumulate loss\n",
    "    total_loss = total_loss / len(dv_set.dataset)              # compute averaged loss\n",
    "\n",
    "    return total_loss"
   ]
  },
  {
   "cell_type": "markdown",
   "id": "e6629496",
   "metadata": {
    "id": "g0pdrhQAO41L",
    "papermill": {
     "duration": 0.02438,
     "end_time": "2021-08-15T10:37:46.714298",
     "exception": false,
     "start_time": "2021-08-15T10:37:46.689918",
     "status": "completed"
    },
    "tags": []
   },
   "source": [
    "## **Testing**"
   ]
  },
  {
   "cell_type": "code",
   "execution_count": 10,
   "id": "63207600",
   "metadata": {
    "execution": {
     "iopub.execute_input": "2021-08-15T10:37:46.766620Z",
     "iopub.status.busy": "2021-08-15T10:37:46.766004Z",
     "iopub.status.idle": "2021-08-15T10:37:46.771174Z",
     "shell.execute_reply": "2021-08-15T10:37:46.771751Z",
     "shell.execute_reply.started": "2021-08-15T10:33:20.865218Z"
    },
    "id": "aSBMRFlYN5tB",
    "papermill": {
     "duration": 0.032972,
     "end_time": "2021-08-15T10:37:46.771912",
     "exception": false,
     "start_time": "2021-08-15T10:37:46.738940",
     "status": "completed"
    },
    "tags": []
   },
   "outputs": [],
   "source": [
    "def test(tt_set, model, device):\n",
    "    model.eval()                                # set model to evalutation mode\n",
    "    preds = []\n",
    "    for x in tt_set:                            # iterate through the dataloader\n",
    "        x = x.to(device)                        # move data to device (cpu/cuda)\n",
    "        with torch.no_grad():                   # disable gradient calculation\n",
    "            pred = model(x)                     # forward pass (compute output)\n",
    "            preds.append(pred.detach().cpu())   # collect prediction\n",
    "    preds = torch.cat(preds, dim=0).numpy()     # concatenate all predictions and convert to a numpy array\n",
    "    return preds"
   ]
  },
  {
   "cell_type": "markdown",
   "id": "15a787a9",
   "metadata": {
    "id": "SvckkF5dvf0j",
    "papermill": {
     "duration": 0.024693,
     "end_time": "2021-08-15T10:37:46.821094",
     "exception": false,
     "start_time": "2021-08-15T10:37:46.796401",
     "status": "completed"
    },
    "tags": []
   },
   "source": [
    "# **Setup Hyper-parameters**\n",
    "\n",
    "`config` contains hyper-parameters for training and the path to save your model."
   ]
  },
  {
   "cell_type": "code",
   "execution_count": 11,
   "id": "60a6c2f6",
   "metadata": {
    "execution": {
     "iopub.execute_input": "2021-08-15T10:37:46.873718Z",
     "iopub.status.busy": "2021-08-15T10:37:46.873066Z",
     "iopub.status.idle": "2021-08-15T10:37:46.878797Z",
     "shell.execute_reply": "2021-08-15T10:37:46.878281Z",
     "shell.execute_reply.started": "2021-08-15T10:33:27.159502Z"
    },
    "id": "NPXpdumwPjE7",
    "papermill": {
     "duration": 0.032761,
     "end_time": "2021-08-15T10:37:46.878922",
     "exception": false,
     "start_time": "2021-08-15T10:37:46.846161",
     "status": "completed"
    },
    "tags": []
   },
   "outputs": [],
   "source": [
    "device = get_device()\n",
    "os.makedirs('models', exist_ok=True) \n",
    "target_only = True                   # 使用前面设置的特征\n",
    "\n",
    "# TODO: How to tune these hyper-parameters to improve your model's performance?\n",
    "config = {\n",
    "    'n_epochs': 10000,                # 因为有early_stop，所以大一点没有影响\n",
    "    'batch_size': 200,               # 微调batchsize\n",
    "    'optimizer': 'Adam',              # 使用Adam优化器\n",
    "    'optim_hparas': {                # 完全使用默认参数\n",
    "        #'lr': 0.0001,                 \n",
    "        #'momentum': 0.9,             \n",
    "        #'weight_decay': 5e-4,\n",
    "    },\n",
    "    'early_stop': 500,               # 由于最后训练使用了所有数据，大一点影响不大\n",
    "    'save_path': 'models/model.pth'  \n",
    "}"
   ]
  },
  {
   "cell_type": "markdown",
   "id": "5bb60306",
   "metadata": {
    "id": "6j1eOV3TOH-j",
    "papermill": {
     "duration": 0.02396,
     "end_time": "2021-08-15T10:37:46.927391",
     "exception": false,
     "start_time": "2021-08-15T10:37:46.903431",
     "status": "completed"
    },
    "tags": []
   },
   "source": [
    "# **Load data and model**"
   ]
  },
  {
   "cell_type": "code",
   "execution_count": 12,
   "id": "fb74eb78",
   "metadata": {
    "execution": {
     "iopub.execute_input": "2021-08-15T10:37:46.982556Z",
     "iopub.status.busy": "2021-08-15T10:37:46.981898Z",
     "iopub.status.idle": "2021-08-15T10:37:47.808349Z",
     "shell.execute_reply": "2021-08-15T10:37:47.809254Z",
     "shell.execute_reply.started": "2021-08-15T10:33:35.249344Z"
    },
    "id": "eNrYBMmePLKm",
    "outputId": "852ad174-52db-464c-a0dc-61d60a002919",
    "papermill": {
     "duration": 0.856584,
     "end_time": "2021-08-15T10:37:47.809513",
     "exception": false,
     "start_time": "2021-08-15T10:37:46.952929",
     "status": "completed"
    },
    "tags": []
   },
   "outputs": [
    {
     "name": "stdout",
     "output_type": "stream",
     "text": [
      "Finished reading the train set of COVID19 Dataset (2700 samples found, each dim = 14)\n",
      "Finished reading the dev set of COVID19 Dataset (2700 samples found, each dim = 14)\n",
      "Finished reading the test set of COVID19 Dataset (893 samples found, each dim = 14)\n"
     ]
    }
   ],
   "source": [
    "tr_set = prep_dataloader(tr_path, 'train', config['batch_size'], target_only=target_only)\n",
    "dv_set = prep_dataloader(tr_path, 'dev', config['batch_size'], target_only=target_only)\n",
    "tt_set = prep_dataloader(tt_path, 'test', config['batch_size'], target_only=target_only)"
   ]
  },
  {
   "cell_type": "code",
   "execution_count": 13,
   "id": "197216f8",
   "metadata": {
    "execution": {
     "iopub.execute_input": "2021-08-15T10:37:47.868626Z",
     "iopub.status.busy": "2021-08-15T10:37:47.867972Z",
     "iopub.status.idle": "2021-08-15T10:37:47.880150Z",
     "shell.execute_reply": "2021-08-15T10:37:47.879594Z",
     "shell.execute_reply.started": "2021-08-15T10:33:42.343117Z"
    },
    "id": "FHylSirLP9oh",
    "papermill": {
     "duration": 0.043782,
     "end_time": "2021-08-15T10:37:47.880312",
     "exception": false,
     "start_time": "2021-08-15T10:37:47.836530",
     "status": "completed"
    },
    "tags": []
   },
   "outputs": [],
   "source": [
    "model = NeuralNet(tr_set.dataset.dim).to(device)  # Construct model and move to device"
   ]
  },
  {
   "cell_type": "markdown",
   "id": "18eb1a6d",
   "metadata": {
    "id": "sX2B_zgSOPTJ",
    "papermill": {
     "duration": 0.025267,
     "end_time": "2021-08-15T10:37:47.931265",
     "exception": false,
     "start_time": "2021-08-15T10:37:47.905998",
     "status": "completed"
    },
    "tags": []
   },
   "source": [
    "# **Start Training!**"
   ]
  },
  {
   "cell_type": "code",
   "execution_count": 14,
   "id": "9ba7d892",
   "metadata": {
    "execution": {
     "iopub.execute_input": "2021-08-15T10:37:47.990063Z",
     "iopub.status.busy": "2021-08-15T10:37:47.989444Z",
     "iopub.status.idle": "2021-08-15T10:39:45.248367Z",
     "shell.execute_reply": "2021-08-15T10:39:45.248857Z",
     "shell.execute_reply.started": "2021-08-15T10:33:45.515016Z"
    },
    "id": "GrEbUxazQAAZ",
    "outputId": "77a00891-cd34-495c-9ee5-43970c2b8cbc",
    "papermill": {
     "duration": 117.291967,
     "end_time": "2021-08-15T10:39:45.249026",
     "exception": false,
     "start_time": "2021-08-15T10:37:47.957059",
     "status": "completed"
    },
    "tags": []
   },
   "outputs": [
    {
     "name": "stdout",
     "output_type": "stream",
     "text": [
      "Saving model (epoch =    1, loss = 323.1610)\n",
      "Saving model (epoch =    2, loss = 306.4512)\n",
      "Saving model (epoch =    3, loss = 272.6935)\n",
      "Saving model (epoch =    4, loss = 242.4932)\n",
      "Saving model (epoch =    8, loss = 238.4358)\n",
      "Saving model (epoch =    9, loss = 230.9091)\n",
      "Saving model (epoch =   10, loss = 208.2094)\n",
      "Saving model (epoch =   11, loss = 190.8668)\n",
      "Saving model (epoch =   13, loss = 169.2399)\n",
      "Saving model (epoch =   14, loss = 155.0954)\n",
      "Saving model (epoch =   15, loss = 152.5083)\n",
      "Saving model (epoch =   16, loss = 145.5480)\n",
      "Saving model (epoch =   17, loss = 113.7765)\n",
      "Saving model (epoch =   18, loss = 85.8843)\n",
      "Saving model (epoch =   23, loss = 77.3045)\n",
      "Saving model (epoch =   25, loss = 71.4813)\n",
      "Saving model (epoch =   26, loss = 63.9199)\n",
      "Saving model (epoch =   27, loss = 61.5333)\n",
      "Saving model (epoch =   28, loss = 56.9014)\n",
      "Saving model (epoch =   30, loss = 26.4041)\n",
      "Saving model (epoch =   34, loss = 24.1473)\n",
      "Saving model (epoch =   35, loss = 13.8972)\n",
      "Saving model (epoch =   40, loss = 9.4641)\n",
      "Saving model (epoch =   47, loss = 9.1583)\n",
      "Saving model (epoch =   50, loss = 9.0509)\n",
      "Saving model (epoch =   52, loss = 8.7479)\n",
      "Saving model (epoch =   55, loss = 8.4276)\n",
      "Saving model (epoch =   58, loss = 7.1128)\n",
      "Saving model (epoch =   74, loss = 6.7530)\n",
      "Saving model (epoch =   76, loss = 6.7361)\n",
      "Saving model (epoch =   81, loss = 6.3943)\n",
      "Saving model (epoch =   85, loss = 6.3511)\n",
      "Saving model (epoch =   91, loss = 5.4752)\n",
      "Saving model (epoch =   94, loss = 5.3095)\n",
      "Saving model (epoch =   97, loss = 5.1882)\n",
      "Saving model (epoch =  104, loss = 4.6190)\n",
      "Saving model (epoch =  112, loss = 4.5326)\n",
      "Saving model (epoch =  118, loss = 4.1105)\n",
      "Saving model (epoch =  120, loss = 4.0506)\n",
      "Saving model (epoch =  123, loss = 3.7174)\n",
      "Saving model (epoch =  134, loss = 3.4014)\n",
      "Saving model (epoch =  137, loss = 3.2473)\n",
      "Saving model (epoch =  140, loss = 3.1145)\n",
      "Saving model (epoch =  144, loss = 2.9023)\n",
      "Saving model (epoch =  150, loss = 2.6737)\n",
      "Saving model (epoch =  154, loss = 2.5655)\n",
      "Saving model (epoch =  157, loss = 2.5202)\n",
      "Saving model (epoch =  169, loss = 2.3099)\n",
      "Saving model (epoch =  173, loss = 2.0532)\n",
      "Saving model (epoch =  174, loss = 2.0498)\n",
      "Saving model (epoch =  181, loss = 1.8376)\n",
      "Saving model (epoch =  192, loss = 1.7077)\n",
      "Saving model (epoch =  194, loss = 1.6477)\n",
      "Saving model (epoch =  198, loss = 1.5723)\n",
      "Saving model (epoch =  211, loss = 1.4548)\n",
      "Saving model (epoch =  216, loss = 1.4111)\n",
      "Saving model (epoch =  220, loss = 1.3851)\n",
      "Saving model (epoch =  224, loss = 1.2959)\n",
      "Saving model (epoch =  226, loss = 1.2843)\n",
      "Saving model (epoch =  235, loss = 1.2459)\n",
      "Saving model (epoch =  246, loss = 1.1746)\n",
      "Saving model (epoch =  252, loss = 1.1451)\n",
      "Saving model (epoch =  264, loss = 1.1375)\n",
      "Saving model (epoch =  266, loss = 1.1235)\n",
      "Saving model (epoch =  270, loss = 1.1210)\n",
      "Saving model (epoch =  272, loss = 1.0997)\n",
      "Saving model (epoch =  289, loss = 1.0657)\n",
      "Saving model (epoch =  290, loss = 1.0576)\n",
      "Saving model (epoch =  306, loss = 1.0469)\n",
      "Saving model (epoch =  310, loss = 1.0316)\n",
      "Saving model (epoch =  331, loss = 1.0249)\n",
      "Saving model (epoch =  343, loss = 1.0225)\n",
      "Saving model (epoch =  346, loss = 1.0223)\n",
      "Saving model (epoch =  354, loss = 1.0154)\n",
      "Saving model (epoch =  362, loss = 1.0037)\n",
      "Saving model (epoch =  366, loss = 1.0031)\n",
      "Saving model (epoch =  384, loss = 1.0016)\n",
      "Saving model (epoch =  393, loss = 0.9935)\n",
      "Saving model (epoch =  442, loss = 0.9917)\n",
      "Saving model (epoch =  444, loss = 0.9890)\n",
      "Saving model (epoch =  455, loss = 0.9882)\n",
      "Saving model (epoch =  457, loss = 0.9862)\n",
      "Saving model (epoch =  636, loss = 0.9858)\n",
      "Saving model (epoch =  643, loss = 0.9837)\n",
      "Saving model (epoch =  790, loss = 0.9824)\n",
      "Saving model (epoch =  818, loss = 0.9809)\n",
      "Saving model (epoch =  863, loss = 0.9804)\n",
      "Saving model (epoch =  865, loss = 0.9803)\n",
      "Saving model (epoch =  923, loss = 0.9801)\n",
      "Saving model (epoch =  994, loss = 0.9792)\n",
      "Finished training after 1495 epochs\n"
     ]
    }
   ],
   "source": [
    "model_loss, model_loss_record = train(tr_set, dv_set, model, config, device)"
   ]
  },
  {
   "cell_type": "code",
   "execution_count": 15,
   "id": "5f68fc9f",
   "metadata": {
    "execution": {
     "iopub.execute_input": "2021-08-15T10:39:45.345453Z",
     "iopub.status.busy": "2021-08-15T10:39:45.344502Z",
     "iopub.status.idle": "2021-08-15T10:39:45.645862Z",
     "shell.execute_reply": "2021-08-15T10:39:45.645260Z",
     "shell.execute_reply.started": "2021-08-15T10:36:46.620299Z"
    },
    "id": "hsNO9nnXQBvP",
    "outputId": "47f1d5e5-2eac-4734-e3e8-bbe02a7b7624",
    "papermill": {
     "duration": 0.352534,
     "end_time": "2021-08-15T10:39:45.646075",
     "exception": false,
     "start_time": "2021-08-15T10:39:45.293541",
     "status": "completed"
    },
    "tags": []
   },
   "outputs": [
    {
     "data": {
      "image/png": "[encoded data removed]",
      "text/plain": [
       "<Figure size 432x288 with 1 Axes>"
      ]
     },
     "metadata": {
      "needs_background": "light"
     },
     "output_type": "display_data"
    }
   ],
   "source": [
    "plot_learning_curve(model_loss_record, title='deep model')"
   ]
  },
  {
   "cell_type": "code",
   "execution_count": 16,
   "id": "4918925f",
   "metadata": {
    "execution": {
     "iopub.execute_input": "2021-08-15T10:39:45.749356Z",
     "iopub.status.busy": "2021-08-15T10:39:45.748577Z",
     "iopub.status.idle": "2021-08-15T10:39:45.956295Z",
     "shell.execute_reply": "2021-08-15T10:39:45.955464Z",
     "shell.execute_reply.started": "2021-08-15T10:36:49.513943Z"
    },
    "id": "3iZTVn5WQFpX",
    "outputId": "b5112e3c-67ae-4342-f7ab-b131f267c183",
    "papermill": {
     "duration": 0.260191,
     "end_time": "2021-08-15T10:39:45.956450",
     "exception": false,
     "start_time": "2021-08-15T10:39:45.696259",
     "status": "completed"
    },
    "tags": []
   },
   "outputs": [
    {
     "data": {
      "image/png": "[encoded data removed]",
      "text/plain": [
       "<Figure size 360x360 with 1 Axes>"
      ]
     },
     "metadata": {
      "needs_background": "light"
     },
     "output_type": "display_data"
    }
   ],
   "source": [
    "del model\n",
    "model = NeuralNet(tr_set.dataset.dim).to(device)\n",
    "ckpt = torch.load(config['save_path'], map_location='cpu')  # Load your best model\n",
    "model.load_state_dict(ckpt)\n",
    "plot_pred(dv_set, model, device)  # Show prediction on the validation set"
   ]
  },
  {
   "cell_type": "markdown",
   "id": "f365a965",
   "metadata": {
    "id": "aQikz3IPiyPf",
    "papermill": {
     "duration": 0.049263,
     "end_time": "2021-08-15T10:39:46.055191",
     "exception": false,
     "start_time": "2021-08-15T10:39:46.005928",
     "status": "completed"
    },
    "tags": []
   },
   "source": [
    "# **Testing**\n",
    "The predictions of your model on testing set will be stored at `pred.csv`."
   ]
  },
  {
   "cell_type": "code",
   "execution_count": 17,
   "id": "3bb0cff5",
   "metadata": {
    "execution": {
     "iopub.execute_input": "2021-08-15T10:39:46.157608Z",
     "iopub.status.busy": "2021-08-15T10:39:46.156972Z",
     "iopub.status.idle": "2021-08-15T10:39:46.172214Z",
     "shell.execute_reply": "2021-08-15T10:39:46.172763Z",
     "shell.execute_reply.started": "2021-08-15T10:36:53.224165Z"
    },
    "id": "O8cTuQjQQOon",
    "outputId": "d1c9bfe0-e85c-4aa6-cf64-1cc04ad3a449",
    "papermill": {
     "duration": 0.068998,
     "end_time": "2021-08-15T10:39:46.172928",
     "exception": false,
     "start_time": "2021-08-15T10:39:46.103930",
     "status": "completed"
    },
    "tags": []
   },
   "outputs": [
    {
     "name": "stdout",
     "output_type": "stream",
     "text": [
      "Saving results to /kaggle/working/submit.csv\n"
     ]
    }
   ],
   "source": [
    "def save_pred(preds, file):\n",
    "    ''' Save predictions to specified file '''\n",
    "    print('Saving results to {}'.format(file))\n",
    "    with open(file, 'w') as fp:\n",
    "        writer = csv.writer(fp)\n",
    "        writer.writerow(['id', 'tested_positive'])\n",
    "        for i, p in enumerate(preds):\n",
    "            writer.writerow([i, p])\n",
    "\n",
    "preds = test(tt_set, model, device)  # predict COVID-19 cases with your model\n",
    "save_pred(preds, '/kaggle/working/submit.csv')         # save prediction file to pred.csv"
   ]
  },
  {
   "cell_type": "markdown",
   "id": "0536510d",
   "metadata": {
    "id": "9tmCwXgpot3t",
    "papermill": {
     "duration": 0.047366,
     "end_time": "2021-08-15T10:39:46.267548",
     "exception": false,
     "start_time": "2021-08-15T10:39:46.220182",
     "status": "completed"
    },
    "tags": []
   },
   "source": [
    "# **Reference**\n",
    "This code is completely written by Heng-Jui Chang @ NTUEE.  \n",
    "Copying or reusing this code is required to specify the original author. \n",
    "\n",
    "E.g.  \n",
    "Source: Heng-Jui Chang @ NTUEE (https://github.com/ga642381/ML2021-Spring/blob/main/HW01/HW01.ipynb)\n"
   ]
  }
 ],
 "metadata": {
  "kernelspec": {
   "display_name": "Python 3",
   "language": "python",
   "name": "python3"
  },
  "language_info": {
   "codemirror_mode": {
    "name": "ipython",
    "version": 3
   },
   "file_extension": ".py",
   "mimetype": "text/x-python",
   "name": "python",
   "nbconvert_exporter": "python",
   "pygments_lexer": "ipython3",
   "version": "3.7.10"
  },
  "papermill": {
   "default_parameters": {},
   "duration": 131.755884,
   "end_time": "2021-08-15T10:39:47.125334",
   "environment_variables": {},
   "exception": null,
   "input_path": "__notebook__.ipynb",
   "output_path": "__notebook__.ipynb",
   "parameters": {},
   "start_time": "2021-08-15T10:37:35.369450",
   "version": "2.3.3"
  }
 },
 "nbformat": 4,
 "nbformat_minor": 5
}
